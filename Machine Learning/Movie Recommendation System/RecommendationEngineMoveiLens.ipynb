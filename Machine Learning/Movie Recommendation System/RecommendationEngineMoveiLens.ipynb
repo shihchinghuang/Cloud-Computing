{
  "nbformat": 4,
  "nbformat_minor": 0,
  "metadata": {
    "colab": {
      "provenance": [],
      "collapsed_sections": [],
      "authorship_tag": "ABX9TyNTavQIyz63d8+frJIbOOjk",
      "include_colab_link": true
    },
    "kernelspec": {
      "name": "python3",
      "display_name": "Python 3"
    },
    "language_info": {
      "name": "python"
    }
  },
  "cells": [
    {
      "cell_type": "markdown",
      "metadata": {
        "id": "view-in-github",
        "colab_type": "text"
      },
      "source": [
        "<a href=\"https://colab.research.google.com/github/fatemanagori/Cloud-Computing/blob/main/fnn.ipynb\" target=\"_parent\"><img src=\"https://colab.research.google.com/assets/colab-badge.svg\" alt=\"Open In Colab\"/></a>"
      ]
    },
    {
      "cell_type": "markdown",
      "source": [
        "Import libraries"
      ],
      "metadata": {
        "id": "S0pPkzw9NkUB"
      }
    },
    {
      "cell_type": "code",
      "execution_count": 70,
      "metadata": {
        "id": "-VLeoif6F4zP"
      },
      "outputs": [],
      "source": [
        "#https://grouplens.org/datasets/movielens/\n"
      ]
    },
    {
      "cell_type": "markdown",
      "source": [
        "Initiate spark session"
      ],
      "metadata": {
        "id": "5WLtaEsZNnbK"
      }
    },
    {
      "cell_type": "code",
      "source": [
        "!pip install pyspark\n",
        "import pandas as pd\n",
        "from pyspark.sql.functions import col, explode\n",
        "from pyspark import SparkContext"
      ],
      "metadata": {
        "colab": {
          "base_uri": "https://localhost:8080/"
        },
        "id": "uRuaHWohIkSi",
        "outputId": "e8252a6e-bbb8-4140-f12f-c4e7be61f285"
      },
      "execution_count": 71,
      "outputs": [
        {
          "output_type": "stream",
          "name": "stdout",
          "text": [
            "Looking in indexes: https://pypi.org/simple, https://us-python.pkg.dev/colab-wheels/public/simple/\n",
            "Requirement already satisfied: pyspark in /usr/local/lib/python3.7/dist-packages (3.3.1)\n",
            "Requirement already satisfied: py4j==0.10.9.5 in /usr/local/lib/python3.7/dist-packages (from pyspark) (0.10.9.5)\n"
          ]
        }
      ]
    },
    {
      "cell_type": "code",
      "source": [
        "from pyspark.sql import SparkSession\n",
        "sc = SparkContext\n",
        "# sc.setCheckpointDir('checkpoint')\n",
        "spark = SparkSession.builder.appName('Recommendations').getOrCreate()"
      ],
      "metadata": {
        "id": "SzWSepXVGqgH"
      },
      "execution_count": 72,
      "outputs": []
    },
    {
      "cell_type": "markdown",
      "source": [
        "1. Load data"
      ],
      "metadata": {
        "id": "T3w1ShJaNv7d"
      }
    },
    {
      "cell_type": "markdown",
      "source": [],
      "metadata": {
        "id": "oZS8Jwh8Nv4F"
      }
    },
    {
      "cell_type": "code",
      "source": [
        "movies = spark.read.csv(\"/content/sample_data/movies.csv\",header=True)\n",
        "ratings = spark.read.csv(\"/content/sample_data/ratings.csv\",header=True)"
      ],
      "metadata": {
        "id": "klLWrYPvGtlm"
      },
      "execution_count": 73,
      "outputs": []
    },
    {
      "cell_type": "code",
      "source": [
        "ratings.show()"
      ],
      "metadata": {
        "colab": {
          "base_uri": "https://localhost:8080/"
        },
        "id": "lG6dE4yxqF5B",
        "outputId": "1bbbec22-158b-451e-c451-34e88f4c0f92"
      },
      "execution_count": 74,
      "outputs": [
        {
          "output_type": "stream",
          "name": "stdout",
          "text": [
            "+------+-------+------+---------+\n",
            "|userId|movieId|rating|timestamp|\n",
            "+------+-------+------+---------+\n",
            "|     1|      1|     4|964982703|\n",
            "|     1|      3|     4|964981247|\n",
            "|     1|      6|     4|964982224|\n",
            "|     1|     47|     5|964983815|\n",
            "|     1|     50|     5|964982931|\n",
            "|     1|     70|     3|964982400|\n",
            "|     1|    101|     5|964980868|\n",
            "|     1|    110|     4|964982176|\n",
            "|     1|    151|     5|964984041|\n",
            "|     1|    157|     5|964984100|\n",
            "|     1|    163|     5|964983650|\n",
            "|     1|    216|     5|964981208|\n",
            "|     1|    223|     3|964980985|\n",
            "|     1|    231|     5|964981179|\n",
            "|     1|    235|     4|964980908|\n",
            "|     1|    260|     5|964981680|\n",
            "|     1|    296|     3|964982967|\n",
            "|     1|    316|     3|964982310|\n",
            "|     1|    333|     5|964981179|\n",
            "|     1|    349|     4|964982563|\n",
            "+------+-------+------+---------+\n",
            "only showing top 20 rows\n",
            "\n"
          ]
        }
      ]
    },
    {
      "cell_type": "code",
      "source": [
        "ratings.printSchema()"
      ],
      "metadata": {
        "colab": {
          "base_uri": "https://localhost:8080/"
        },
        "id": "MkELhn1B-RlX",
        "outputId": "7886b1b2-5b43-411b-f8de-1c66e7c16db0"
      },
      "execution_count": 75,
      "outputs": [
        {
          "output_type": "stream",
          "name": "stdout",
          "text": [
            "root\n",
            " |-- userId: string (nullable = true)\n",
            " |-- movieId: string (nullable = true)\n",
            " |-- rating: string (nullable = true)\n",
            " |-- timestamp: string (nullable = true)\n",
            "\n"
          ]
        }
      ]
    },
    {
      "cell_type": "code",
      "source": [
        "ratings = ratings.\\\n",
        "    withColumn('userId', col('userId').cast('integer')).\\\n",
        "    withColumn('movieId', col('movieId').cast('integer')).\\\n",
        "    withColumn('rating', col('rating').cast('float')).\\\n",
        "    drop('timestamp')\n",
        "ratings.show()"
      ],
      "metadata": {
        "colab": {
          "base_uri": "https://localhost:8080/"
        },
        "id": "PhUuxXRR-1Qy",
        "outputId": "2f193ac0-a1d9-41d9-c302-ef9497cb3654"
      },
      "execution_count": 76,
      "outputs": [
        {
          "output_type": "stream",
          "name": "stdout",
          "text": [
            "+------+-------+------+\n",
            "|userId|movieId|rating|\n",
            "+------+-------+------+\n",
            "|     1|      1|   4.0|\n",
            "|     1|      3|   4.0|\n",
            "|     1|      6|   4.0|\n",
            "|     1|     47|   5.0|\n",
            "|     1|     50|   5.0|\n",
            "|     1|     70|   3.0|\n",
            "|     1|    101|   5.0|\n",
            "|     1|    110|   4.0|\n",
            "|     1|    151|   5.0|\n",
            "|     1|    157|   5.0|\n",
            "|     1|    163|   5.0|\n",
            "|     1|    216|   5.0|\n",
            "|     1|    223|   3.0|\n",
            "|     1|    231|   5.0|\n",
            "|     1|    235|   4.0|\n",
            "|     1|    260|   5.0|\n",
            "|     1|    296|   3.0|\n",
            "|     1|    316|   3.0|\n",
            "|     1|    333|   5.0|\n",
            "|     1|    349|   4.0|\n",
            "+------+-------+------+\n",
            "only showing top 20 rows\n",
            "\n"
          ]
        }
      ]
    },
    {
      "cell_type": "markdown",
      "source": [
        "Calculate sparsity"
      ],
      "metadata": {
        "id": "07Mhu7JoN4Qr"
      }
    },
    {
      "cell_type": "code",
      "source": [
        "# Count the total number of ratings in the dataset\n",
        "numerator = ratings.select(\"rating\").count()\n",
        "\n",
        "# Count the number of distinct userIds and distinct movieIds\n",
        "num_users = ratings.select(\"userId\").distinct().count()\n",
        "num_movies = ratings.select(\"movieId\").distinct().count()\n",
        "\n",
        "# Set the denominator equal to the number of users multiplied by the number of movies\n",
        "denominator = num_users * num_movies\n",
        "\n",
        "# Divide the numerator by the denominator\n",
        "sparsity = (1.0 - (numerator *1.0)/denominator)*100\n",
        "print(\"The ratings dataframe is \", \"%.2f\" % sparsity + \"% empty.\")"
      ],
      "metadata": {
        "colab": {
          "base_uri": "https://localhost:8080/"
        },
        "id": "ZSlCEOdq_OWF",
        "outputId": "e99b6f21-ce16-451f-a816-a6df5be0c109"
      },
      "execution_count": 77,
      "outputs": [
        {
          "output_type": "stream",
          "name": "stdout",
          "text": [
            "The ratings dataframe is  98.30% empty.\n"
          ]
        }
      ]
    },
    {
      "cell_type": "markdown",
      "source": [
        "Interpret ratings"
      ],
      "metadata": {
        "id": "f_QfodGuN_wi"
      }
    },
    {
      "cell_type": "code",
      "source": [
        "# Group data by userId, count ratings\n",
        "userId_ratings = ratings.groupBy(\"userId\").count().orderBy('count', ascending=False)\n",
        "userId_ratings.show()"
      ],
      "metadata": {
        "colab": {
          "base_uri": "https://localhost:8080/"
        },
        "id": "20VKVPb8_e94",
        "outputId": "62f94e58-317f-433a-f9cc-171fcf572c10"
      },
      "execution_count": 78,
      "outputs": [
        {
          "output_type": "stream",
          "name": "stdout",
          "text": [
            "+------+-----+\n",
            "|userId|count|\n",
            "+------+-----+\n",
            "|   414| 2698|\n",
            "|   599| 2478|\n",
            "|   474| 2108|\n",
            "|   448| 1864|\n",
            "|   274| 1346|\n",
            "|   610| 1302|\n",
            "|    68| 1260|\n",
            "|   380| 1218|\n",
            "|   606| 1115|\n",
            "|   288| 1055|\n",
            "|   249| 1046|\n",
            "|   387| 1027|\n",
            "|   182|  977|\n",
            "|   307|  975|\n",
            "|   603|  943|\n",
            "|   298|  939|\n",
            "|   177|  904|\n",
            "|   318|  879|\n",
            "|   232|  862|\n",
            "|   480|  836|\n",
            "+------+-----+\n",
            "only showing top 20 rows\n",
            "\n"
          ]
        }
      ]
    },
    {
      "cell_type": "code",
      "source": [
        "# Group data by userId, count ratings\n",
        "movieId_ratings = ratings.groupBy(\"movieId\").count().orderBy('count', ascending=False)\n",
        "movieId_ratings.show()"
      ],
      "metadata": {
        "colab": {
          "base_uri": "https://localhost:8080/"
        },
        "id": "Len2lbN-_m1L",
        "outputId": "bc85572d-9f14-4f9f-fb8a-b5a754d66872"
      },
      "execution_count": 79,
      "outputs": [
        {
          "output_type": "stream",
          "name": "stdout",
          "text": [
            "+-------+-----+\n",
            "|movieId|count|\n",
            "+-------+-----+\n",
            "|    356|  329|\n",
            "|    318|  317|\n",
            "|    296|  307|\n",
            "|    593|  279|\n",
            "|   2571|  278|\n",
            "|    260|  251|\n",
            "|    480|  238|\n",
            "|    110|  237|\n",
            "|    589|  224|\n",
            "|    527|  220|\n",
            "|   2959|  218|\n",
            "|      1|  215|\n",
            "|   1196|  211|\n",
            "|   2858|  204|\n",
            "|     50|  204|\n",
            "|     47|  203|\n",
            "|    780|  202|\n",
            "|    150|  201|\n",
            "|   1198|  200|\n",
            "|   4993|  198|\n",
            "+-------+-----+\n",
            "only showing top 20 rows\n",
            "\n"
          ]
        }
      ]
    },
    {
      "cell_type": "markdown",
      "source": [
        "Build Out An ALS Model"
      ],
      "metadata": {
        "id": "AEcy5bvMOFHZ"
      }
    },
    {
      "cell_type": "code",
      "source": [
        "# Import the required functions\n",
        "from pyspark.ml.evaluation import RegressionEvaluator\n",
        "from pyspark.ml.recommendation import ALS\n",
        "from pyspark.ml.tuning import ParamGridBuilder, CrossValidator\n",
        "\n"
      ],
      "metadata": {
        "id": "2Nik0kUJ_zFH"
      },
      "execution_count": 80,
      "outputs": []
    },
    {
      "cell_type": "code",
      "source": [
        "# Create test and train set\n",
        "(train, test) = ratings.randomSplit([0.8, 0.2], seed = 1234)\n",
        "\n",
        "# Create ALS model\n",
        "als = ALS(userCol=\"userId\", itemCol=\"movieId\", ratingCol=\"rating\", nonnegative = True, implicitPrefs = False, coldStartStrategy=\"drop\")\n",
        "\n",
        "# Confirm that a model called \"als\" was created\n",
        "type(als)"
      ],
      "metadata": {
        "colab": {
          "base_uri": "https://localhost:8080/"
        },
        "id": "XDlCEsfi_1i3",
        "outputId": "8276a6ef-3998-41e1-9722-7ddb387ca4da"
      },
      "execution_count": 81,
      "outputs": [
        {
          "output_type": "execute_result",
          "data": {
            "text/plain": [
              "pyspark.ml.recommendation.ALS"
            ]
          },
          "metadata": {},
          "execution_count": 81
        }
      ]
    },
    {
      "cell_type": "markdown",
      "source": [
        "Tell Spark how to tune your ALS model"
      ],
      "metadata": {
        "id": "jevOAoydOKaZ"
      }
    },
    {
      "cell_type": "code",
      "source": [
        "# Import the requisite items\n",
        "from pyspark.ml.evaluation import RegressionEvaluator\n",
        "from pyspark.ml.tuning import ParamGridBuilder, CrossValidator\n",
        "\n",
        "# Add hyperparameters and their respective values to param_grid\n",
        "param_grid = ParamGridBuilder() \\\n",
        "            .addGrid(als.rank, [10, 50, 100, 150]) \\\n",
        "            .addGrid(als.regParam, [.01, .05, .1, .15]) \\\n",
        "            .build()\n",
        "            #             .addGrid(als.maxIter, [5, 50, 100, 200]) \\\n",
        "\n",
        "           \n",
        "# Define evaluator as RMSE and print length of evaluator\n",
        "evaluator = RegressionEvaluator(metricName=\"rmse\", labelCol=\"rating\", predictionCol=\"prediction\") \n",
        "print (\"Num models to be tested: \", len(param_grid))"
      ],
      "metadata": {
        "colab": {
          "base_uri": "https://localhost:8080/"
        },
        "id": "qYTiUAAmAGbF",
        "outputId": "2ab48a2c-1b3a-4ebf-8cab-0487f94664f6"
      },
      "execution_count": 82,
      "outputs": [
        {
          "output_type": "stream",
          "name": "stdout",
          "text": [
            "Num models to be tested:  16\n"
          ]
        }
      ]
    },
    {
      "cell_type": "markdown",
      "source": [
        "Build your cross validation pipeline"
      ],
      "metadata": {
        "id": "8rjitBgRORDv"
      }
    },
    {
      "cell_type": "code",
      "source": [
        "# Build cross validation using CrossValidator\n",
        "cv = CrossValidator(estimator=als, estimatorParamMaps=param_grid, evaluator=evaluator, numFolds=5)\n",
        "\n",
        "# Confirm cv was built\n",
        "print(cv)"
      ],
      "metadata": {
        "colab": {
          "base_uri": "https://localhost:8080/"
        },
        "id": "8WWIkowcAWnx",
        "outputId": "2693fb7c-b7ef-4f25-a574-9163b586cd58"
      },
      "execution_count": 83,
      "outputs": [
        {
          "output_type": "stream",
          "name": "stdout",
          "text": [
            "CrossValidator_a1cdfe2eef72\n"
          ]
        }
      ]
    },
    {
      "cell_type": "markdown",
      "source": [
        "Best Model and Best Model Parameters"
      ],
      "metadata": {
        "id": "PIL_FbokOVLx"
      }
    },
    {
      "cell_type": "code",
      "source": [
        "#Fit cross validator to the 'train' dataset\n",
        "model = cv.fit(train)\n",
        "\n",
        "#Extract best model from the cv model above\n",
        "best_model = model.bestModel"
      ],
      "metadata": {
        "id": "X3eNn2jnAioo"
      },
      "execution_count": 84,
      "outputs": []
    },
    {
      "cell_type": "code",
      "source": [
        "# Print best_model\n",
        "print(type(best_model))\n",
        "\n",
        "# Complete the code below to extract the ALS model parameters\n",
        "print(\"**Best Model**\")\n",
        "\n",
        "# # Print \"Rank\"\n",
        "print(\"  Rank:\", best_model._java_obj.parent().getRank())\n",
        "\n",
        "# Print \"MaxIter\"\n",
        "print(\"  MaxIter:\", best_model._java_obj.parent().getMaxIter())\n",
        "\n",
        "# Print \"RegParam\"\n",
        "print(\"  RegParam:\", best_model._java_obj.parent().getRegParam())"
      ],
      "metadata": {
        "colab": {
          "base_uri": "https://localhost:8080/"
        },
        "id": "4pe1S2PISYPZ",
        "outputId": "b97618cd-0c11-4a08-a0b3-aaffe2eef92c"
      },
      "execution_count": 85,
      "outputs": [
        {
          "output_type": "stream",
          "name": "stdout",
          "text": [
            "<class 'pyspark.ml.recommendation.ALSModel'>\n",
            "**Best Model**\n",
            "  Rank: 50\n",
            "  MaxIter: 10\n",
            "  RegParam: 0.15\n"
          ]
        }
      ]
    },
    {
      "cell_type": "code",
      "source": [
        "# View the predictions\n",
        "test_predictions = best_model.transform(test)\n",
        "RMSE = evaluator.evaluate(test_predictions)\n",
        "print(RMSE)"
      ],
      "metadata": {
        "colab": {
          "base_uri": "https://localhost:8080/"
        },
        "id": "mVhyp-9TZpRe",
        "outputId": "336e393a-a197-4823-c045-7d0528c42edb"
      },
      "execution_count": 86,
      "outputs": [
        {
          "output_type": "stream",
          "name": "stdout",
          "text": [
            "0.8689326879934025\n"
          ]
        }
      ]
    },
    {
      "cell_type": "code",
      "source": [
        "test_predictions.show()"
      ],
      "metadata": {
        "colab": {
          "base_uri": "https://localhost:8080/"
        },
        "id": "pTDTClUbZsN5",
        "outputId": "4eaa7c88-3ffe-4914-8a07-f894a5f8be23"
      },
      "execution_count": 87,
      "outputs": [
        {
          "output_type": "stream",
          "name": "stdout",
          "text": [
            "+------+-------+------+----------+\n",
            "|userId|movieId|rating|prediction|\n",
            "+------+-------+------+----------+\n",
            "|   580|   1580|   4.0| 3.4767513|\n",
            "|   580|  44022|   3.5| 3.2329106|\n",
            "|   597|    471|   2.0| 4.0973544|\n",
            "|   108|   1959|   5.0| 3.9114242|\n",
            "|   368|   2122|   2.0| 1.7332546|\n",
            "|   436|    471|   3.0| 3.5612435|\n",
            "|   587|   1580|   4.0| 3.8635247|\n",
            "|    27|   1580|   3.0| 3.3411598|\n",
            "|   606|   1580|   2.5|  3.177235|\n",
            "|   606|  44022|   4.0| 2.8244107|\n",
            "|    91|   2122|   4.0| 2.4437563|\n",
            "|   157|   3175|   2.0| 3.3452675|\n",
            "|   232|   1580|   3.5|  3.387463|\n",
            "|   232|  44022|   3.0|  3.146332|\n",
            "|   246|   1645|   4.0| 3.8246517|\n",
            "|   599|   2366|   3.0| 2.8663418|\n",
            "|   111|   1088|   3.0| 3.3596506|\n",
            "|   111|   3175|   3.5| 3.1965234|\n",
            "|    47|   1580|   1.5| 2.7354228|\n",
            "|   140|   1580|   3.0| 3.3516643|\n",
            "+------+-------+------+----------+\n",
            "only showing top 20 rows\n",
            "\n"
          ]
        }
      ]
    },
    {
      "cell_type": "code",
      "source": [
        "# Generate n Recommendations for all users\n",
        "nrecommendations = best_model.recommendForAllUsers(10)\n",
        "nrecommendations.limit(10).show()"
      ],
      "metadata": {
        "colab": {
          "base_uri": "https://localhost:8080/"
        },
        "id": "gwPM0c-TZuGa",
        "outputId": "8d225875-ff06-4ff9-cd3a-92aa8f441e8b"
      },
      "execution_count": 88,
      "outputs": [
        {
          "output_type": "stream",
          "name": "stdout",
          "text": [
            "+------+--------------------+\n",
            "|userId|     recommendations|\n",
            "+------+--------------------+\n",
            "|     1|[{3379, 5.742315}...|\n",
            "|     3|[{5746, 4.857241}...|\n",
            "|     5|[{5490, 4.5659523...|\n",
            "|     6|[{33649, 4.740703...|\n",
            "|     9|[{3379, 4.8099413...|\n",
            "|    12|[{67618, 5.635417...|\n",
            "|    13|[{3379, 5.023902}...|\n",
            "|    15|[{3379, 4.482838}...|\n",
            "|    16|[{3379, 4.618491}...|\n",
            "|    17|[{3379, 5.151107}...|\n",
            "+------+--------------------+\n",
            "\n"
          ]
        }
      ]
    },
    {
      "cell_type": "code",
      "source": [
        "nrecommendations = nrecommendations\\\n",
        "    .withColumn(\"rec_exp\", explode(\"recommendations\"))\\\n",
        "    .select('userId', col(\"rec_exp.movieId\"), col(\"rec_exp.rating\"))\n",
        "\n",
        "nrecommendations.limit(10).show()"
      ],
      "metadata": {
        "colab": {
          "base_uri": "https://localhost:8080/"
        },
        "id": "JnGMG6ZgZyAg",
        "outputId": "4e7ca5b4-e145-4c42-9f19-a2105bb63c9f"
      },
      "execution_count": 89,
      "outputs": [
        {
          "output_type": "stream",
          "name": "stdout",
          "text": [
            "+------+-------+---------+\n",
            "|userId|movieId|   rating|\n",
            "+------+-------+---------+\n",
            "|     1|   3379| 5.742315|\n",
            "|     1|  33649|5.5936594|\n",
            "|     1|   5490|  5.58637|\n",
            "|     1|   5915|5.4192247|\n",
            "|     1|   8477| 5.390031|\n",
            "|     1| 171495|5.3779364|\n",
            "|     1|   5328| 5.335581|\n",
            "|     1|   5416| 5.335581|\n",
            "|     1|   3951| 5.335581|\n",
            "|     1|  78836| 5.334566|\n",
            "+------+-------+---------+\n",
            "\n"
          ]
        }
      ]
    },
    {
      "cell_type": "markdown",
      "source": [
        "**Do the recommendations make sense?**\n",
        "Lets merge movie name and genres to teh recommendation matrix for interpretability."
      ],
      "metadata": {
        "id": "i4mKd7lwZ6vv"
      }
    },
    {
      "cell_type": "code",
      "source": [
        "nrecommendations.join(movies, on='movieId').filter('userId = 100').show()"
      ],
      "metadata": {
        "colab": {
          "base_uri": "https://localhost:8080/"
        },
        "id": "4HmWhBodZz4V",
        "outputId": "725f208b-d1b4-42ab-91f6-5d01fdeffd42"
      },
      "execution_count": 90,
      "outputs": [
        {
          "output_type": "stream",
          "name": "stdout",
          "text": [
            "+-------+------+---------+--------------------+--------------------+\n",
            "|movieId|userId|   rating|               title|              genres|\n",
            "+-------+------+---------+--------------------+--------------------+\n",
            "|  67618|   100| 5.098606|Strictly Sexual (...|Comedy|Drama|Romance|\n",
            "|  33649|   100| 5.025205|  Saving Face (2004)|Comedy|Drama|Romance|\n",
            "|   3379|   100| 5.020757| On the Beach (1959)|               Drama|\n",
            "|  42730|   100| 4.915584|   Glory Road (2006)|               Drama|\n",
            "|  74282|   100|4.9090996|Anne of Green Gab...|Children|Drama|Ro...|\n",
            "| 117531|   100|4.8842745|    Watermark (2014)|         Documentary|\n",
            "|   7071|   100|4.8842745|Woman Under the I...|               Drama|\n",
            "| 179135|   100|4.8842745|Blue Planet II (2...|         Documentary|\n",
            "| 184245|   100|4.8842745|De platte jungle ...|         Documentary|\n",
            "|  84273|   100|4.8842745|Zeitgeist: Moving...|         Documentary|\n",
            "+-------+------+---------+--------------------+--------------------+\n",
            "\n"
          ]
        }
      ]
    },
    {
      "cell_type": "code",
      "source": [
        "ratings.join(movies, on='movieId').filter('userId = 100').sort('rating', ascending=False).limit(10).show()"
      ],
      "metadata": {
        "colab": {
          "base_uri": "https://localhost:8080/"
        },
        "id": "zIGArxY_aHl7",
        "outputId": "916ab209-f0f8-4ce3-b500-48dfa3ffebf7"
      },
      "execution_count": 91,
      "outputs": [
        {
          "output_type": "stream",
          "name": "stdout",
          "text": [
            "+-------+------+------+--------------------+--------------------+\n",
            "|movieId|userId|rating|               title|              genres|\n",
            "+-------+------+------+--------------------+--------------------+\n",
            "|   1101|   100|   5.0|      Top Gun (1986)|      Action|Romance|\n",
            "|   1958|   100|   5.0|Terms of Endearme...|        Comedy|Drama|\n",
            "|   2423|   100|   5.0|Christmas Vacatio...|              Comedy|\n",
            "|   4041|   100|   5.0|Officer and a Gen...|       Drama|Romance|\n",
            "|   5620|   100|   5.0|Sweet Home Alabam...|      Comedy|Romance|\n",
            "|    368|   100|   4.5|     Maverick (1994)|Adventure|Comedy|...|\n",
            "|    934|   100|   4.5|Father of the Bri...|              Comedy|\n",
            "|    539|   100|   4.5|Sleepless in Seat...|Comedy|Drama|Romance|\n",
            "|     16|   100|   4.5|       Casino (1995)|         Crime|Drama|\n",
            "|    553|   100|   4.5|    Tombstone (1993)|Action|Drama|Western|\n",
            "+-------+------+------+--------------------+--------------------+\n",
            "\n"
          ]
        }
      ]
    }
  ]
}
